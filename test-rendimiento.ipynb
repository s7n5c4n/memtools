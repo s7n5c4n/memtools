{
 "cells": [
  {
   "cell_type": "code",
   "execution_count": 1,
   "metadata": {},
   "outputs": [
    {
     "ename": "AttributeError",
     "evalue": "/home/s7n5c4n/Escritorio/memtools/memtool/core.cpython-312-x86_64-linux-gnu.so: undefined symbol: mem_sum_int",
     "output_type": "error",
     "traceback": [
      "\u001b[31m---------------------------------------------------------------------------\u001b[39m",
      "\u001b[31mAttributeError\u001b[39m                            Traceback (most recent call last)",
      "\u001b[36mCell\u001b[39m\u001b[36m \u001b[39m\u001b[32mIn[1]\u001b[39m\u001b[32m, line 4\u001b[39m\n\u001b[32m      2\u001b[39m \u001b[38;5;28;01mimport\u001b[39;00m\u001b[38;5;250m \u001b[39m\u001b[34;01mtime\u001b[39;00m\n\u001b[32m      3\u001b[39m \u001b[38;5;28;01mimport\u001b[39;00m\u001b[38;5;250m \u001b[39m\u001b[34;01mnumpy\u001b[39;00m\u001b[38;5;250m \u001b[39m\u001b[38;5;28;01mas\u001b[39;00m\u001b[38;5;250m \u001b[39m\u001b[34;01mnp\u001b[39;00m\n\u001b[32m----> \u001b[39m\u001b[32m4\u001b[39m \u001b[38;5;28;01mfrom\u001b[39;00m\u001b[38;5;250m \u001b[39m\u001b[34;01mmemtool\u001b[39;00m\u001b[38;5;250m \u001b[39m\u001b[38;5;28;01mimport\u001b[39;00m malloc_int, set_int, sum_int, free\n\u001b[32m      5\u001b[39m \u001b[38;5;28;01mimport\u001b[39;00m\u001b[38;5;250m \u001b[39m\u001b[34;01mpsutil\u001b[39;00m,\u001b[38;5;250m \u001b[39m\u001b[34;01mos\u001b[39;00m\n",
      "\u001b[36mFile \u001b[39m\u001b[32m~/Escritorio/memtools/memtool/__init__.py:27\u001b[39m\n\u001b[32m     24\u001b[39m lib.mem_get_int.restype = c_int\n\u001b[32m     26\u001b[39m \u001b[38;5;66;03m# Actualizamos mem_sum_int para que retorne un entero de 64 bits\u001b[39;00m\n\u001b[32m---> \u001b[39m\u001b[32m27\u001b[39m \u001b[43mlib\u001b[49m\u001b[43m.\u001b[49m\u001b[43mmem_sum_int\u001b[49m.argtypes = [POINTER(c_int), c_int]\n\u001b[32m     28\u001b[39m lib.mem_sum_int.restype = c_longlong\n\u001b[32m     30\u001b[39m lib.mem_init_int_sequence.argtypes = [POINTER(c_int), c_int]\n",
      "\u001b[36mFile \u001b[39m\u001b[32m/usr/lib/python3.12/ctypes/__init__.py:392\u001b[39m, in \u001b[36mCDLL.__getattr__\u001b[39m\u001b[34m(self, name)\u001b[39m\n\u001b[32m    390\u001b[39m \u001b[38;5;28;01mif\u001b[39;00m name.startswith(\u001b[33m'\u001b[39m\u001b[33m__\u001b[39m\u001b[33m'\u001b[39m) \u001b[38;5;129;01mand\u001b[39;00m name.endswith(\u001b[33m'\u001b[39m\u001b[33m__\u001b[39m\u001b[33m'\u001b[39m):\n\u001b[32m    391\u001b[39m     \u001b[38;5;28;01mraise\u001b[39;00m \u001b[38;5;167;01mAttributeError\u001b[39;00m(name)\n\u001b[32m--> \u001b[39m\u001b[32m392\u001b[39m func = \u001b[38;5;28;43mself\u001b[39;49m\u001b[43m.\u001b[49m\u001b[34;43m__getitem__\u001b[39;49m\u001b[43m(\u001b[49m\u001b[43mname\u001b[49m\u001b[43m)\u001b[49m\n\u001b[32m    393\u001b[39m \u001b[38;5;28msetattr\u001b[39m(\u001b[38;5;28mself\u001b[39m, name, func)\n\u001b[32m    394\u001b[39m \u001b[38;5;28;01mreturn\u001b[39;00m func\n",
      "\u001b[36mFile \u001b[39m\u001b[32m/usr/lib/python3.12/ctypes/__init__.py:397\u001b[39m, in \u001b[36mCDLL.__getitem__\u001b[39m\u001b[34m(self, name_or_ordinal)\u001b[39m\n\u001b[32m    396\u001b[39m \u001b[38;5;28;01mdef\u001b[39;00m\u001b[38;5;250m \u001b[39m\u001b[34m__getitem__\u001b[39m(\u001b[38;5;28mself\u001b[39m, name_or_ordinal):\n\u001b[32m--> \u001b[39m\u001b[32m397\u001b[39m     func = \u001b[38;5;28;43mself\u001b[39;49m\u001b[43m.\u001b[49m\u001b[43m_FuncPtr\u001b[49m\u001b[43m(\u001b[49m\u001b[43m(\u001b[49m\u001b[43mname_or_ordinal\u001b[49m\u001b[43m,\u001b[49m\u001b[43m \u001b[49m\u001b[38;5;28;43mself\u001b[39;49m\u001b[43m)\u001b[49m\u001b[43m)\u001b[49m\n\u001b[32m    398\u001b[39m     \u001b[38;5;28;01mif\u001b[39;00m \u001b[38;5;129;01mnot\u001b[39;00m \u001b[38;5;28misinstance\u001b[39m(name_or_ordinal, \u001b[38;5;28mint\u001b[39m):\n\u001b[32m    399\u001b[39m         func.\u001b[34m__name__\u001b[39m = name_or_ordinal\n",
      "\u001b[31mAttributeError\u001b[39m: /home/s7n5c4n/Escritorio/memtools/memtool/core.cpython-312-x86_64-linux-gnu.so: undefined symbol: mem_sum_int"
     ]
    }
   ],
   "source": [
    "import matplotlib.pyplot as plt\n",
    "import time\n",
    "import numpy as np\n",
    "from memtool import malloc_int, set_int, sum_int, free\n",
    "import psutil, os"
   ]
  },
  {
   "cell_type": "code",
   "execution_count": null,
   "metadata": {},
   "outputs": [],
   "source": [
    "# Tamaños para prueba de estrés\n",
    "sizes = [10_000, 100_000, 500_000, 1_000_000, 2_000_000]\n",
    "times_memtool = []\n",
    "times_numpy = []\n",
    "times_python = []\n",
    "\n",
    "process = psutil.Process(os.getpid())\n",
    "print(f\"Memoria usada antes de free(): {process.memory_info().rss / 1024 ** 2:.2f} MB\")\n"
   ]
  },
  {
   "cell_type": "code",
   "execution_count": null,
   "metadata": {},
   "outputs": [],
   "source": [
    "for N in sizes:\n",
    "    # --- Python puro ---\n",
    "    start = time.time()\n",
    "    total_py = sum(range(N))\n",
    "    times_python.append(time.time() - start)\n",
    "\n",
    "    # --- NumPy ---\n",
    "    arr = np.arange(N, dtype=np.int32)\n",
    "    start = time.time()\n",
    "    total_np = np.sum(arr)\n",
    "    times_numpy.append(time.time() - start)\n",
    "\n",
    "    # --- memtool ---\n",
    "    ptr = malloc_int(N)\n",
    "    for i in range(N):\n",
    "        set_int(ptr, i, i)\n",
    "    start = time.time()\n",
    "    total_mem = sum_int(ptr, N)\n",
    "    times_memtool.append(time.time() - start)\n",
    "    free(ptr)"
   ]
  },
  {
   "cell_type": "code",
   "execution_count": null,
   "metadata": {},
   "outputs": [],
   "source": [
    "# --- Gráfico ---\n",
    "plt.figure(figsize=(10, 6))\n",
    "plt.plot(sizes, times_python, label=\"Python puro\", marker=\"o\")\n",
    "plt.plot(sizes, times_numpy, label=\"NumPy\", marker=\"o\")\n",
    "plt.plot(sizes, times_memtool, label=\"memtool (C)\", marker=\"o\")\n",
    "plt.xlabel(\"Cantidad de elementos\")\n",
    "plt.ylabel(\"Tiempo de suma (segundos)\")\n",
    "plt.title(\"Comparación de rendimiento - Suma de enteros\")\n",
    "plt.legend()\n",
    "plt.grid(True)\n",
    "plt.tight_layout()\n",
    "plt.savefig(\"performance_comparison.png\")\n",
    "plt.show()\n"
   ]
  }
 ],
 "metadata": {
  "kernelspec": {
   "display_name": "env",
   "language": "python",
   "name": "python3"
  },
  "language_info": {
   "codemirror_mode": {
    "name": "ipython",
    "version": 3
   },
   "file_extension": ".py",
   "mimetype": "text/x-python",
   "name": "python",
   "nbconvert_exporter": "python",
   "pygments_lexer": "ipython3",
   "version": "3.12.3"
  }
 },
 "nbformat": 4,
 "nbformat_minor": 2
}
